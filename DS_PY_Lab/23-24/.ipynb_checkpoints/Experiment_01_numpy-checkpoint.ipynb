{
  "cells": [
    {
      "cell_type": "markdown",
      "metadata": {
        "id": "view-in-github",
        "colab_type": "text"
      },
      "source": [
        "<a href=\"https://colab.research.google.com/github/Rohan-cherkar/DS-with-Python/blob/init/DS_PY_Lab/23-24/.ipynb_checkpoints/Experiment_01_numpy-checkpoint.ipynb\" target=\"_parent\"><img src=\"https://colab.research.google.com/assets/colab-badge.svg\" alt=\"Open In Colab\"/></a>"
      ]
    },
    {
      "cell_type": "markdown",
      "metadata": {
        "id": "eTOpwleUjhEc"
      },
      "source": [
        "**Experiment No :** 01\n",
        "\n",
        "**Aim :** Learn basics of Numpy library for storing and efficiently processing any external data into python execution pipeline.\n",
        "\n",
        "**Theory :**  **NumPy** (short for Numerical Python) provides an efficient interface to store and operate on dense data buffers. In some ways, *NumPy arrays* are like Python's built-in *list type*, but NumPy arrays provide much more *efficient storage* and *data operations* as the arrays grow larger in size. NumPy arrays form the core of nearly the entire ecosystem of data science tools in Python\n",
        "\n",
        "NumPy is a Python library used for working with arrays. It also has functions for working in domain of linear algebra, fourier transform, and matrices. NumPy was created in 2005 by Travis Oliphant. It is an open source project and you can use it freely.\n",
        "\n",
        "In Python we have lists that serve the purpose of arrays, but they are slow to process. NumPy aims to provide an array object that is up to 50x faster than traditional Python lists. The array object in NumPy is called *ndarray*, it provides a lot of supporting functions that make working with *ndarray* very easy.\n",
        "Arrays are very frequently used in data science, where speed and resources are very important.\n",
        "\n",
        "NumPy arrays are stored at one continuous place in memory unlike lists, so processes can access and manipulate them very efficiently. This behavior is called locality of reference in computer science. This is the main reason why NumPy is faster than lists. Also it is optimized to work with latest CPU architectures.\n",
        "\n"
      ]
    },
    {
      "cell_type": "markdown",
      "metadata": {
        "id": "wXeSkgt6EAur"
      },
      "source": [
        "**Working :**"
      ]
    },
    {
      "cell_type": "code",
      "execution_count": null,
      "metadata": {
        "colab": {
          "base_uri": "https://localhost:8080/",
          "height": 35
        },
        "id": "aci_dNppq6Dm",
        "outputId": "97865168-d984-49ce-8aef-e6354799e56e"
      },
      "outputs": [
        {
          "output_type": "execute_result",
          "data": {
            "text/plain": [
              "'1.26.4'"
            ],
            "application/vnd.google.colaboratory.intrinsic+json": {
              "type": "string"
            }
          },
          "metadata": {},
          "execution_count": 1
        }
      ],
      "source": [
        "import numpy\n",
        "numpy.__version__"
      ]
    },
    {
      "cell_type": "markdown",
      "metadata": {
        "id": "o8DgaYQBuiz8"
      },
      "source": [
        "**A Python List Is More Than Just a List**\n",
        "\n",
        "Let's consider now what happens when we use a Python data structure that holds many Python objects. The standard mutable multi-element container in Python is the list. We can create a list of integers as follows:"
      ]
    },
    {
      "cell_type": "code",
      "execution_count": 18,
      "metadata": {
        "colab": {
          "base_uri": "https://localhost:8080/"
        },
        "id": "0misdp5Luo8h",
        "outputId": "a44d51e6-50d9-4be8-a25f-fb0a8395dc18"
      },
      "outputs": [
        {
          "output_type": "execute_result",
          "data": {
            "text/plain": [
              "[0, 1, 2, 3, 4, 5, 6, 7, 8, 9, 10]"
            ]
          },
          "metadata": {},
          "execution_count": 18
        }
      ],
      "source": [
        "i=3\n",
        "L = list(range(8+i))\n",
        "L"
      ]
    },
    {
      "cell_type": "code",
      "execution_count": null,
      "metadata": {
        "colab": {
          "base_uri": "https://localhost:8080/"
        },
        "id": "nEY3A3fKur-v",
        "outputId": "3d71083b-80c7-432a-f61e-1ee3eb45ed2d"
      },
      "outputs": [
        {
          "output_type": "execute_result",
          "data": {
            "text/plain": [
              "int"
            ]
          },
          "metadata": {},
          "execution_count": 7
        }
      ],
      "source": [
        "type(L[0])"
      ]
    },
    {
      "cell_type": "code",
      "execution_count": null,
      "metadata": {
        "colab": {
          "base_uri": "https://localhost:8080/"
        },
        "id": "peiODg-wu0UP",
        "outputId": "8d9266d8-077c-42a2-9168-d3d602d57579"
      },
      "outputs": [
        {
          "output_type": "execute_result",
          "data": {
            "text/plain": [
              "['0', '1', '2', '3', '4', '5', '6', '7', '8', '9', '10']"
            ]
          },
          "metadata": {},
          "execution_count": 10
        }
      ],
      "source": [
        "L2 = [str(c) for c in L]\n",
        "L2"
      ]
    },
    {
      "cell_type": "code",
      "execution_count": null,
      "metadata": {
        "colab": {
          "base_uri": "https://localhost:8080/"
        },
        "id": "VtIcV8pVu29N",
        "outputId": "791ad01c-5e77-4be9-d0bf-eea21e2fe9e4"
      },
      "outputs": [
        {
          "output_type": "stream",
          "name": "stdout",
          "text": [
            "1\n"
          ]
        },
        {
          "output_type": "execute_result",
          "data": {
            "text/plain": [
              "str"
            ]
          },
          "metadata": {},
          "execution_count": 12
        }
      ],
      "source": [
        "print(L2[1])\n",
        "type(L2[1])"
      ]
    },
    {
      "cell_type": "code",
      "execution_count": null,
      "metadata": {
        "colab": {
          "base_uri": "https://localhost:8080/"
        },
        "id": "yvmZGyteu6vH",
        "outputId": "319a4d79-e149-4d1b-cda4-46c9d9f2f916"
      },
      "outputs": [
        {
          "output_type": "execute_result",
          "data": {
            "text/plain": [
              "[bool, str, float, int]"
            ]
          },
          "metadata": {},
          "execution_count": 22
        }
      ],
      "source": [
        "L3 = [True, \"2\", 3.0, 4]\n",
        "# for item in L3:\n",
        "#  print(type(item) )\n",
        "[type(item) for item in L3]"
      ]
    },
    {
      "cell_type": "markdown",
      "metadata": {
        "id": "WigRtVzrvEoy"
      },
      "source": [
        "## Fixed-Type Arrays in Python\n",
        "\n",
        "Python offers several different options for storing data in efficient, fixed-type data buffers.\n",
        "The built-in ``array`` module (available since Python 3.3) can be used to create dense arrays of a uniform type:"
      ]
    },
    {
      "cell_type": "code",
      "execution_count": null,
      "metadata": {
        "colab": {
          "base_uri": "https://localhost:8080/"
        },
        "id": "Mtu3TuuGvKZW",
        "outputId": "0903037e-dcf1-47da-d2d4-c0e485b56cbb"
      },
      "outputs": [
        {
          "output_type": "stream",
          "name": "stdout",
          "text": [
            "array('d', [0.0, 1.0, 2.0, 3.0, 4.0, 5.0, 6.0, 7.0, 8.0, 9.0])\n"
          ]
        },
        {
          "output_type": "execute_result",
          "data": {
            "text/plain": [
              "[float, float, float, float, float, float, float, float, float, float]"
            ]
          },
          "metadata": {},
          "execution_count": 47
        }
      ],
      "source": [
        "import array as arr\n",
        "L = list(range(10))\n",
        "A = arr.array(\"d\",L)\n",
        "print(A)\n",
        "[type(item) for item in A] # it will show float"
      ]
    },
    {
      "cell_type": "markdown",
      "metadata": {
        "id": "xCEKacaQwcb2"
      },
      "source": [
        "\n",
        "## Creating Arrays from Python Lists\n",
        "\n",
        "First, we can use ``np.array`` to create arrays from Python lists:"
      ]
    },
    {
      "cell_type": "code",
      "execution_count": null,
      "metadata": {
        "colab": {
          "base_uri": "https://localhost:8080/"
        },
        "id": "Df2kJJVKwd1V",
        "outputId": "ebc56e5d-c5f5-4c94-f4c9-40c22f56e0cd"
      },
      "outputs": [
        {
          "output_type": "stream",
          "name": "stdout",
          "text": [
            "<class 'numpy.str_'>\n",
            "<class 'numpy.str_'>\n"
          ]
        }
      ],
      "source": [
        "import numpy as np\n",
        "# integer array:\n",
        "L=np.array([1, 4, \"2\", 5, 3])\n",
        "print(type(L[2]))\n",
        "# print(type(L[1]))\n"
      ]
    },
    {
      "cell_type": "markdown",
      "metadata": {
        "id": "aSXNgXDbwqyU"
      },
      "source": [
        "Remember that unlike Python lists, NumPy is constrained to arrays that all contain the same type. If types do not match, NumPy will upcast if possible (here, integers are up-cast to floating point):"
      ]
    },
    {
      "cell_type": "code",
      "execution_count": null,
      "metadata": {
        "colab": {
          "base_uri": "https://localhost:8080/"
        },
        "id": "SFoqtm67wqd4",
        "outputId": "a54bc896-b40b-496a-dae3-6ee12bfd7f8d"
      },
      "outputs": [
        {
          "output_type": "execute_result",
          "data": {
            "text/plain": [
              "numpy.float64"
            ]
          },
          "metadata": {},
          "execution_count": 73
        }
      ],
      "source": [
        "A=np.array([3.14, 4, 2, 3])\n",
        "type(A[1])"
      ]
    },
    {
      "cell_type": "markdown",
      "metadata": {
        "id": "zCM50ofhwxy-"
      },
      "source": [
        "If we want to explicitly set the data type of the resulting array, we can use the ``dtype`` keyword:"
      ]
    },
    {
      "cell_type": "code",
      "execution_count": null,
      "metadata": {
        "colab": {
          "base_uri": "https://localhost:8080/"
        },
        "id": "58Ra0aDMw2oL",
        "outputId": "58e17c9a-3604-4e6b-f950-4ef97326b80c"
      },
      "outputs": [
        {
          "output_type": "execute_result",
          "data": {
            "text/plain": [
              "numpy.int64"
            ]
          },
          "metadata": {},
          "execution_count": 76
        }
      ],
      "source": [
        "L=np.array([1, 2, 3, 4], dtype='int')\n",
        "type(L[0])"
      ]
    },
    {
      "cell_type": "markdown",
      "metadata": {
        "id": "TTFC1GqJxfzn"
      },
      "source": [
        "Finally, unlike Python lists, NumPy arrays can explicitly be multi-dimensional; here's one way of initializing a multidimensional array using a list of lists:"
      ]
    },
    {
      "cell_type": "code",
      "source": [
        "#this is extra code\n",
        "#  L= 4\n",
        "# P=[]\n",
        "# for i in range(L):\n",
        "#   P.append(i)\n",
        "# print(type(P))\n",
        "for i in range(1,15,2):\n",
        "  print(i)"
      ],
      "metadata": {
        "colab": {
          "base_uri": "https://localhost:8080/"
        },
        "id": "qJ4Q9vIjard5",
        "outputId": "54664a23-3627-4291-d49c-6614d3c6bc4b"
      },
      "execution_count": 32,
      "outputs": [
        {
          "output_type": "stream",
          "name": "stdout",
          "text": [
            "1\n",
            "3\n",
            "5\n",
            "7\n",
            "9\n",
            "11\n",
            "13\n"
          ]
        }
      ]
    },
    {
      "cell_type": "code",
      "execution_count": 35,
      "metadata": {
        "colab": {
          "base_uri": "https://localhost:8080/"
        },
        "id": "EPgUUQZ-xYpd",
        "outputId": "f0c0a830-8c3d-48d4-880c-b6d1ff5a4bd2"
      },
      "outputs": [
        {
          "output_type": "execute_result",
          "data": {
            "text/plain": [
              "array([[2, 3, 4, 5],\n",
              "       [4, 5, 6, 7],\n",
              "       [6, 7, 8, 9]])"
            ]
          },
          "metadata": {},
          "execution_count": 35
        }
      ],
      "source": [
        "import numpy as np\n",
        "# nested lists result in multi-dimensional arrays\n",
        "np.array([range(i, i+4) for i in [2, 4, 6]])"
      ]
    },
    {
      "cell_type": "markdown",
      "metadata": {
        "id": "c20zcRzBxxey"
      },
      "source": [
        "## Creating Arrays from Scratch\n",
        "\n",
        "Especially for larger arrays, it is more efficient to create arrays from scratch using routines built into NumPy.\n",
        "Here are several examples:"
      ]
    },
    {
      "cell_type": "code",
      "execution_count": 41,
      "metadata": {
        "id": "4Df8zJxFxBdq",
        "colab": {
          "base_uri": "https://localhost:8080/"
        },
        "outputId": "4fd34d72-ad86-45b5-c679-1d56b8f4093e"
      },
      "outputs": [
        {
          "output_type": "execute_result",
          "data": {
            "text/plain": [
              "array([1, 1, 1, 1, 1, 1, 1, 1, 1, 1])"
            ]
          },
          "metadata": {},
          "execution_count": 41
        }
      ],
      "source": [
        "# Create a length-10 integer array filled with zeros\n",
        "np.ones(10, dtype=int)"
      ]
    },
    {
      "cell_type": "code",
      "execution_count": 49,
      "metadata": {
        "id": "YeqU_GSexC5m",
        "colab": {
          "base_uri": "https://localhost:8080/"
        },
        "outputId": "bf191946-8227-49e3-c085-015b801e7eb8"
      },
      "outputs": [
        {
          "output_type": "execute_result",
          "data": {
            "text/plain": [
              "array([['1', '1', '1', '1', '1'],\n",
              "       ['1', '1', '1', '1', '1'],\n",
              "       ['1', '1', '1', '1', '1']], dtype='<U1')"
            ]
          },
          "metadata": {},
          "execution_count": 49
        }
      ],
      "source": [
        "# Create a 3x5 floating-point array filled with ones\n",
        "np.ones((3, 5), dtype=str)"
      ]
    },
    {
      "cell_type": "code",
      "execution_count": 51,
      "metadata": {
        "id": "JvZL6KtAxKDP",
        "colab": {
          "base_uri": "https://localhost:8080/"
        },
        "outputId": "e6a56294-34a4-41a6-a992-d13a6acc015a"
      },
      "outputs": [
        {
          "output_type": "execute_result",
          "data": {
            "text/plain": [
              "array([[3., 3., 3., 3., 3.],\n",
              "       [3., 3., 3., 3., 3.],\n",
              "       [3., 3., 3., 3., 3.]])"
            ]
          },
          "metadata": {},
          "execution_count": 51
        }
      ],
      "source": [
        "i=3\n",
        "j=5\n",
        "# Create a 3x5 array filled with 3.14\n",
        "np.full((i, j), 3, dtype=float)"
      ]
    },
    {
      "cell_type": "code",
      "execution_count": 57,
      "metadata": {
        "id": "8cljdE71xNvR",
        "colab": {
          "base_uri": "https://localhost:8080/"
        },
        "outputId": "2a68186d-04a5-4e95-afb7-14e0a8412714"
      },
      "outputs": [
        {
          "output_type": "execute_result",
          "data": {
            "text/plain": [
              "array([ 0,  5, 10, 15])"
            ]
          },
          "metadata": {},
          "execution_count": 57
        }
      ],
      "source": [
        "# Create an array filled with a linear sequence\n",
        "# Starting at 0, ending at 20, stepping by 2\n",
        "# (this is similar to the built-in range() function)\n",
        "np.arange(0, 20, 5)"
      ]
    },
    {
      "cell_type": "code",
      "execution_count": 59,
      "metadata": {
        "id": "83UbZarFxS6b",
        "colab": {
          "base_uri": "https://localhost:8080/"
        },
        "outputId": "dccad64d-4a22-4f08-996b-51e4fd798aeb"
      },
      "outputs": [
        {
          "output_type": "execute_result",
          "data": {
            "text/plain": [
              "array([0.  , 0.25, 0.5 , 0.75, 1.  ])"
            ]
          },
          "metadata": {},
          "execution_count": 59
        }
      ],
      "source": [
        "# Create an array of five values evenly spaced between 0 and 1\n",
        "np.linspace(0, 1, 5)"
      ]
    },
    {
      "cell_type": "code",
      "execution_count": 78,
      "metadata": {
        "id": "QXEyH8ZTxW0G",
        "colab": {
          "base_uri": "https://localhost:8080/"
        },
        "outputId": "e5351587-1f13-4813-a2c2-ed16bc6d6bd7"
      },
      "outputs": [
        {
          "output_type": "execute_result",
          "data": {
            "text/plain": [
              "array([[0.59212179, 0.96256861, 0.76945622],\n",
              "       [0.34117002, 0.32912445, 0.36310792],\n",
              "       [0.07580666, 0.75054515, 0.26893642]])"
            ]
          },
          "metadata": {},
          "execution_count": 78
        }
      ],
      "source": [
        "# Create a 3x3 array of uniformly distributed\n",
        "# random values between 0 and 1\n",
        "np.random.random((3, 3))"
      ]
    },
    {
      "cell_type": "code",
      "execution_count": 79,
      "metadata": {
        "id": "04T8a-AAxbV7",
        "colab": {
          "base_uri": "https://localhost:8080/"
        },
        "outputId": "e1abdcd0-1460-4819-c627-517fe028676f"
      },
      "outputs": [
        {
          "output_type": "execute_result",
          "data": {
            "text/plain": [
              "array([[ 0.12645298, -2.39761519, -0.40132324],\n",
              "       [-0.71885714, -1.85186399,  0.0545185 ],\n",
              "       [ 2.69510547,  1.4297511 ,  1.63355059]])"
            ]
          },
          "metadata": {},
          "execution_count": 79
        }
      ],
      "source": [
        "# Create a 3x3 array of normally distributed random values\n",
        "# with mean 0 and standard deviation 1\n",
        "np.random.normal(0, 1, (3, 3))"
      ]
    },
    {
      "cell_type": "code",
      "execution_count": 101,
      "metadata": {
        "id": "FB6_jCanxez6",
        "colab": {
          "base_uri": "https://localhost:8080/"
        },
        "outputId": "67c9baff-b54a-462b-91fe-c0c4fa7c0265"
      },
      "outputs": [
        {
          "output_type": "execute_result",
          "data": {
            "text/plain": [
              "array([[2, 1, 0],\n",
              "       [6, 4, 1],\n",
              "       [3, 9, 8]])"
            ]
          },
          "metadata": {},
          "execution_count": 101
        }
      ],
      "source": [
        "# Create a 3x3 array of random integers in the interval [0, 10)\n",
        "np.random.randint(0,10, (3,3))"
      ]
    },
    {
      "cell_type": "code",
      "execution_count": 82,
      "metadata": {
        "id": "S8-Pk3q5xmdO",
        "colab": {
          "base_uri": "https://localhost:8080/"
        },
        "outputId": "2003fd9b-f1bb-4ec2-930f-6c7105a9e168"
      },
      "outputs": [
        {
          "output_type": "execute_result",
          "data": {
            "text/plain": [
              "array([[1., 0., 0.],\n",
              "       [0., 1., 0.],\n",
              "       [0., 0., 1.]])"
            ]
          },
          "metadata": {},
          "execution_count": 82
        }
      ],
      "source": [
        "# Create a 3x3 identity matrix\n",
        "np.eye(3)"
      ]
    },
    {
      "cell_type": "code",
      "execution_count": 103,
      "metadata": {
        "id": "1OgzEhM2xtF5",
        "colab": {
          "base_uri": "https://localhost:8080/"
        },
        "outputId": "81becdf5-2448-48f7-aefd-6b71c76d0a63"
      },
      "outputs": [
        {
          "output_type": "execute_result",
          "data": {
            "text/plain": [
              "array([1., 1., 1.])"
            ]
          },
          "metadata": {},
          "execution_count": 103
        }
      ],
      "source": [
        "# Create an uninitialized array of three integers\n",
        "# The values will be whatever happens to already exist at that memory location\n",
        "np.empty(3)"
      ]
    },
    {
      "cell_type": "markdown",
      "metadata": {
        "id": "FhIMJjgcx1eD"
      },
      "source": [
        "## NumPy Standard Data Types\n",
        "\n",
        "NumPy arrays contain values of a single type, so it is important to have detailed knowledge of those types and their limitations.\n",
        "Because NumPy is built in C, the types will be familiar to users of C, Fortran, and other related languages.\n",
        "\n",
        "The standard NumPy data types are listed in the following table.\n",
        "Note that when constructing an array, they can be specified using a string:\n",
        "\n",
        "```python\n",
        "np.zeros(10, dtype='int16')\n",
        "```\n",
        "\n",
        "Or using the associated NumPy object:\n",
        "\n",
        "```python\n",
        "np.zeros(10, dtype=np.int16)\n",
        "```\n",
        "Following table shows all datatypes for Numpy Array\n",
        "\n",
        "| Data type\t    | Description |\n",
        "|---------------|-------------|\n",
        "| ``bool_``     | Boolean (True or False) stored as a byte |\n",
        "| ``int_``      | Default integer type (same as C ``long``; normally either ``int64`` or ``int32``)|\n",
        "| ``intc``      | Identical to C ``int`` (normally ``int32`` or ``int64``)|\n",
        "| ``intp``      | Integer used for indexing (same as C ``ssize_t``; normally either ``int32`` or ``int64``)|\n",
        "| ``int8``      | Byte (-128 to 127)|\n",
        "| ``int16``     | Integer (-32768 to 32767)|\n",
        "| ``int32``     | Integer (-2147483648 to 2147483647)|\n",
        "| ``int64``     | Integer (-9223372036854775808 to 9223372036854775807)|\n",
        "| ``uint8``     | Unsigned integer (0 to 255)|\n",
        "| ``uint16``    | Unsigned integer (0 to 65535)|\n",
        "| ``uint32``    | Unsigned integer (0 to 4294967295)|\n",
        "| ``uint64``    | Unsigned integer (0 to 18446744073709551615)|\n",
        "| ``float_``    | Shorthand for ``float64``.|\n",
        "| ``float16``   | Half precision float: sign bit, 5 bits exponent, 10 bits mantissa|\n",
        "| ``float32``   | Single precision float: sign bit, 8 bits exponent, 23 bits mantissa|\n",
        "| ``float64``   | Double precision float: sign bit, 11 bits exponent, 52 bits mantissa|\n",
        "| ``complex_``  | Shorthand for ``complex128``.|\n",
        "| ``complex64`` | Complex number, represented by two 32-bit floats|\n",
        "| ``complex128``| Complex number, represented by two 64-bit floats|"
      ]
    },
    {
      "cell_type": "markdown",
      "metadata": {
        "id": "_fIZQ4AKzf3e"
      },
      "source": [
        "## NumPy Array Attributes\n",
        "\n",
        "We will learn about important Attributes with NumPy Array objects\n",
        "\n",
        "Each array object has attributes ``ndim`` (the number of dimensions), ``shape`` (the size of each dimension), and ``size`` (the total size of the array), the ``dtype``, the data type of the array :"
      ]
    },
    {
      "cell_type": "code",
      "execution_count": 105,
      "metadata": {
        "id": "ord_E53rx0Yx"
      },
      "outputs": [],
      "source": [
        "#Consider following sample arrays\n",
        "np.random.seed(0)  # seed for reproducibility\n",
        "\n",
        "x1 = np.random.randint(10, size=6)  # One-dimensional array\n",
        "x2 = np.random.randint(10, size=(3, 4))  # Two-dimensional array\n",
        "x3 = np.random.randint(10, size=(3, 4, 5))  # Three-dimensional array"
      ]
    },
    {
      "cell_type": "code",
      "execution_count": 112,
      "metadata": {
        "id": "X4avCd82z3nZ",
        "colab": {
          "base_uri": "https://localhost:8080/"
        },
        "outputId": "723c6afc-1b80-4ad0-dc17-35efeb48d50b"
      },
      "outputs": [
        {
          "output_type": "stream",
          "name": "stdout",
          "text": [
            "x3 ndim:  3\n",
            "x3 shape: (3, 4, 5)\n",
            "x3 size:  60\n",
            "dtype: int64\n",
            "[[[8 1 5 9 8]\n",
            "  [9 4 3 0 3]\n",
            "  [5 0 2 3 8]\n",
            "  [1 3 3 3 7]]\n",
            "\n",
            " [[0 1 9 9 0]\n",
            "  [4 7 3 2 7]\n",
            "  [2 0 0 4 5]\n",
            "  [5 6 8 4 1]]\n",
            "\n",
            " [[4 9 8 1 1]\n",
            "  [7 9 9 3 6]\n",
            "  [7 2 0 3 5]\n",
            "  [9 4 4 6 4]]]\n",
            "x2 ndim 2\n"
          ]
        }
      ],
      "source": [
        "print(\"x3 ndim: \", x3.ndim)\n",
        "print(\"x3 shape:\", x3.shape)\n",
        "print(\"x3 size: \", x3.size)\n",
        "print(\"dtype:\", x3.dtype)\n",
        "print(x3)\n",
        "# print(\"x2 ndim\",x2.ndim)"
      ]
    },
    {
      "cell_type": "markdown",
      "metadata": {
        "id": "gD5y17ur0SUY"
      },
      "source": [
        "Other attributes include ``itemsize``, which lists the size (in bytes) of each array element, and ``nbytes``, which lists the total size (in bytes) of the array:"
      ]
    },
    {
      "cell_type": "code",
      "execution_count": 108,
      "metadata": {
        "id": "iIACfZGJz88F",
        "colab": {
          "base_uri": "https://localhost:8080/"
        },
        "outputId": "f4dd858c-1cc1-4147-d92d-7df6141a706d"
      },
      "outputs": [
        {
          "output_type": "stream",
          "name": "stdout",
          "text": [
            "itemsize: 8 bytes\n",
            "nbytes: 480 bytes\n"
          ]
        }
      ],
      "source": [
        "print(\"itemsize:\", x3.itemsize, \"bytes\")\n",
        "print(\"nbytes:\", x3.nbytes, \"bytes\")"
      ]
    },
    {
      "cell_type": "markdown",
      "metadata": {
        "id": "QhHVb0nMGphd"
      },
      "source": [
        "## Array Indexing: Accessing Single Elements\n",
        "Next we learn how to access single element in a NumPy array\n",
        "NumPy follows indexing similar to that of Python in a dimension index starts at 0 till length-1\n",
        "\n",
        "So x1[0] will mean 0th element and x1[5] means sixth element in array x1.\n",
        "\n",
        "We can use negative index value to indicate accessing elements from back side of array.\n",
        "\n",
        "In a multi-dimensional array, items can be accessed using a comma-separated tuple of indices as shown in below code cell."
      ]
    },
    {
      "cell_type": "code",
      "execution_count": 111,
      "metadata": {
        "id": "DYhobFMoJV9c",
        "colab": {
          "base_uri": "https://localhost:8080/"
        },
        "outputId": "6a9a0fe4-17b5-495e-89da-1e8cea6cbf9a"
      },
      "outputs": [
        {
          "output_type": "execute_result",
          "data": {
            "text/plain": [
              "6"
            ]
          },
          "metadata": {},
          "execution_count": 111
        }
      ],
      "source": [
        "# acessing third list's first element\n",
        "x2[2, 1]"
      ]
    },
    {
      "cell_type": "code",
      "execution_count": 119,
      "metadata": {
        "id": "dm0FVTT8JlL4",
        "colab": {
          "base_uri": "https://localhost:8080/"
        },
        "outputId": "d4034f6d-7f58-41ff-85e7-84f25bd46cb2"
      },
      "outputs": [
        {
          "output_type": "execute_result",
          "data": {
            "text/plain": [
              "8"
            ]
          },
          "metadata": {},
          "execution_count": 119
        }
      ],
      "source": [
        "# accessing second last element from second list\n",
        "x2[1, -2]"
      ]
    },
    {
      "cell_type": "code",
      "execution_count": 127,
      "metadata": {
        "id": "8McLQYbmJ1gb",
        "colab": {
          "base_uri": "https://localhost:8080/"
        },
        "outputId": "44b3d351-aa5c-46a2-f3e1-ba0d6cf665dd"
      },
      "outputs": [
        {
          "output_type": "execute_result",
          "data": {
            "text/plain": [
              "array([[12,  5,  2,  4],\n",
              "       [10,  6, 10,  8],\n",
              "       [12,  6,  7,  7]])"
            ]
          },
          "metadata": {},
          "execution_count": 127
        }
      ],
      "source": [
        "# modifying value at a perticular index\n",
        "x2[1, 2] = 10\n",
        "x2"
      ]
    },
    {
      "cell_type": "markdown",
      "metadata": {
        "id": "hwr6_1yvKQf9"
      },
      "source": [
        "## Array Slicing: Accessing Subarrays\n",
        "\n",
        "Just as we can use square brackets to access individual array elements, we can also use them to access subarrays with the *slice* notation, marked by the colon (``:``) character.\n",
        "The NumPy slicing syntax follows that of the standard Python list; to access a slice of an array ``x``, use this:\n",
        "``` python\n",
        "x[start:stop:step]\n",
        "```\n",
        "If any of these are unspecified, they default to the values ``start=0``, ``stop=``*``size of dimension``*, ``step=1``.\n",
        "We'll take a look at accessing sub-arrays in one dimension and in multiple dimensions."
      ]
    },
    {
      "cell_type": "markdown",
      "metadata": {
        "id": "aEoCkO4ZLT7W"
      },
      "source": [
        "### One-dimensional subarrays"
      ]
    },
    {
      "cell_type": "code",
      "execution_count": 138,
      "metadata": {
        "id": "YRDpL3ZzLa1V",
        "colab": {
          "base_uri": "https://localhost:8080/"
        },
        "outputId": "4f4d4a80-0a26-47e0-93f6-501d32111fb8"
      },
      "outputs": [
        {
          "output_type": "execute_result",
          "data": {
            "text/plain": [
              "array([ 0,  1,  2,  3,  4,  5,  6,  7,  8,  9, 10, 11, 12, 13, 14])"
            ]
          },
          "metadata": {},
          "execution_count": 138
        }
      ],
      "source": [
        "x = np.arange(15)\n",
        "x"
      ]
    },
    {
      "cell_type": "code",
      "execution_count": 141,
      "metadata": {
        "id": "1J9mkW48LcNL",
        "colab": {
          "base_uri": "https://localhost:8080/"
        },
        "outputId": "fef9edc1-d827-48ae-cd9a-7ed61d209061"
      },
      "outputs": [
        {
          "output_type": "execute_result",
          "data": {
            "text/plain": [
              "array([0, 1, 2, 3, 4])"
            ]
          },
          "metadata": {},
          "execution_count": 141
        }
      ],
      "source": [
        "x[:5]  # first five elements"
      ]
    },
    {
      "cell_type": "code",
      "execution_count": 140,
      "metadata": {
        "id": "fab1B-FYLgKV",
        "colab": {
          "base_uri": "https://localhost:8080/"
        },
        "outputId": "b26840e6-56be-4349-f8a7-021438451e7f"
      },
      "outputs": [
        {
          "output_type": "execute_result",
          "data": {
            "text/plain": [
              "array([ 5,  6,  7,  8,  9, 10, 11, 12, 13, 14])"
            ]
          },
          "metadata": {},
          "execution_count": 140
        }
      ],
      "source": [
        "x[5:]  # elements after index five"
      ]
    },
    {
      "cell_type": "code",
      "execution_count": 134,
      "metadata": {
        "id": "5N3cpw-ULiqV",
        "colab": {
          "base_uri": "https://localhost:8080/"
        },
        "outputId": "a0e05abb-577d-4285-ca2f-41a29f5042c2"
      },
      "outputs": [
        {
          "output_type": "execute_result",
          "data": {
            "text/plain": [
              "array([4, 5, 6])"
            ]
          },
          "metadata": {},
          "execution_count": 134
        }
      ],
      "source": [
        "x[4:7]  # sub-array of index 4, 5, 6"
      ]
    },
    {
      "cell_type": "code",
      "execution_count": 139,
      "metadata": {
        "id": "iNsOAUQDMDx_",
        "colab": {
          "base_uri": "https://localhost:8080/"
        },
        "outputId": "1440797a-f490-474d-d586-d843a8e67398"
      },
      "outputs": [
        {
          "output_type": "execute_result",
          "data": {
            "text/plain": [
              "array([ 0,  2,  4,  6,  8, 10, 12, 14])"
            ]
          },
          "metadata": {},
          "execution_count": 139
        }
      ],
      "source": [
        "x[::2]  # every other element"
      ]
    },
    {
      "cell_type": "code",
      "execution_count": 144,
      "metadata": {
        "id": "yilqVhunSU5u",
        "colab": {
          "base_uri": "https://localhost:8080/"
        },
        "outputId": "8255af0e-b58a-41e1-d135-51990575aa92"
      },
      "outputs": [
        {
          "output_type": "execute_result",
          "data": {
            "text/plain": [
              "array([ 2,  4,  6,  8, 10, 12, 14])"
            ]
          },
          "metadata": {},
          "execution_count": 144
        }
      ],
      "source": [
        "x[2::2]  # every other element starting at index 2"
      ]
    },
    {
      "cell_type": "code",
      "source": [
        "x[2:11:2]"
      ],
      "metadata": {
        "id": "-Slb6AgblEHW",
        "outputId": "fdad60e0-0ea8-4f29-e297-7fb0fbd713fa",
        "colab": {
          "base_uri": "https://localhost:8080/"
        }
      },
      "execution_count": 147,
      "outputs": [
        {
          "output_type": "execute_result",
          "data": {
            "text/plain": [
              "array([ 2,  4,  6,  8, 10])"
            ]
          },
          "metadata": {},
          "execution_count": 147
        }
      ]
    },
    {
      "cell_type": "markdown",
      "metadata": {
        "id": "o6_sI_lsSlvK"
      },
      "source": [
        "A potentially confusing case is when the ``step`` value is negative.\n",
        "In this case, the defaults for ``start`` and ``stop`` are swapped.\n",
        "This becomes a convenient way to reverse an array:"
      ]
    },
    {
      "cell_type": "code",
      "execution_count": 148,
      "metadata": {
        "id": "HtaibN6JSlJg",
        "colab": {
          "base_uri": "https://localhost:8080/"
        },
        "outputId": "2ccfe6ce-d3da-4c38-b8b1-589f6c53b045"
      },
      "outputs": [
        {
          "output_type": "execute_result",
          "data": {
            "text/plain": [
              "array([14, 13, 12, 11, 10,  9,  8,  7,  6,  5,  4,  3,  2,  1,  0])"
            ]
          },
          "metadata": {},
          "execution_count": 148
        }
      ],
      "source": [
        "x[::-1]  # all elements, reversed"
      ]
    },
    {
      "cell_type": "code",
      "execution_count": 149,
      "metadata": {
        "id": "wbfEp5IESpQT",
        "colab": {
          "base_uri": "https://localhost:8080/"
        },
        "outputId": "e4aa8ef1-f2d7-4dea-d17b-7a30f27801fc"
      },
      "outputs": [
        {
          "output_type": "execute_result",
          "data": {
            "text/plain": [
              "array([3, 1])"
            ]
          },
          "metadata": {},
          "execution_count": 149
        }
      ],
      "source": [
        "x[3::-2]  # reversed every other from index 3"
      ]
    },
    {
      "cell_type": "markdown",
      "metadata": {
        "id": "8IIrPEOAVPd_"
      },
      "source": [
        "### Multi-dimensional subarrays\n",
        "\n",
        "Multi-dimensional slices work in the same way, with multiple slices separated by commas.\n",
        "For example:"
      ]
    },
    {
      "cell_type": "code",
      "execution_count": null,
      "metadata": {
        "id": "phD6ltHjS5b0"
      },
      "outputs": [],
      "source": [
        "x2[:2, :3]  # This is sub Array of x2 with first two rows and first three columns"
      ]
    },
    {
      "cell_type": "code",
      "execution_count": null,
      "metadata": {
        "id": "LE7O0SIfVa8F"
      },
      "outputs": [],
      "source": [
        "#Check how we can reverse the multidimension array\n",
        "x2[::-1, ::-1]"
      ]
    },
    {
      "cell_type": "markdown",
      "metadata": {
        "id": "ikdPJUKUW0lU"
      },
      "source": [
        "#### Accessing array rows and columns\n",
        "\n",
        "One commonly needed routine is accessing of single rows or columns of an array.\n",
        "This can be done by combining indexing and slicing, using an empty slice marked by a single colon (``:``):"
      ]
    },
    {
      "cell_type": "code",
      "execution_count": null,
      "metadata": {
        "id": "pmv7b_0jVa0Y"
      },
      "outputs": [],
      "source": [
        "print(x2[:, 0])  # first column of x2"
      ]
    },
    {
      "cell_type": "code",
      "execution_count": null,
      "metadata": {
        "id": "xB51GFTNW5b8"
      },
      "outputs": [],
      "source": [
        "print(x2[0, :])  # first row of x2"
      ]
    },
    {
      "cell_type": "markdown",
      "metadata": {
        "id": "Z7qeID5QXLv_"
      },
      "source": [
        "### Subarrays as no-copy views\n",
        "\n",
        "One important–and extremely useful–thing to know about array slices is that they return *views* rather than *copies* of the array data.\n",
        "This is one area in which NumPy array slicing differs from Python list slicing: in lists, slices will be copies.\n",
        "Consider our two-dimensional array from before:"
      ]
    },
    {
      "cell_type": "code",
      "execution_count": null,
      "metadata": {
        "id": "YqS3iYj7XNgB"
      },
      "outputs": [],
      "source": [
        "#Extract 2*2 sub array from x2\n",
        "x2_sub = x2[:2, :2]\n",
        "print(x2_sub)"
      ]
    },
    {
      "cell_type": "code",
      "execution_count": null,
      "metadata": {
        "id": "Cu0tFyfcXZqp"
      },
      "outputs": [],
      "source": [
        "x2_sub[0, 0] = 99\n",
        "#Above statement not oly modifies subarray but also the original array as well\n",
        "print(x2_sub)"
      ]
    },
    {
      "cell_type": "markdown",
      "metadata": {
        "id": "KuxFe4X4XrLA"
      },
      "source": [
        "Despite the nice features of array views, it is sometimes useful to instead explicitly copy the data within an array or a subarray. This can be most easily done with the ``copy()`` method:"
      ]
    },
    {
      "cell_type": "code",
      "execution_count": null,
      "metadata": {
        "id": "SK11XTrXYqhl"
      },
      "outputs": [],
      "source": [
        "x2_sub_copy[0, 0] = 42\n",
        "print(x2_sub_copy\n",
        "print(x2)"
      ]
    },
    {
      "cell_type": "markdown",
      "metadata": {
        "id": "weHsUSMJY1DT"
      },
      "source": [
        "## Array Concatenation and Splitting\n",
        "\n",
        "All of the preceding routines worked on single arrays. It's also possible to combine multiple arrays into one, and to conversely split a single array into multiple arrays. We'll take a look at those operations here.\n",
        "\n",
        "\n",
        "### Concatenation of arrays\n",
        "\n",
        "Concatenation, or joining of two arrays in NumPy, is primarily accomplished using the routines ``np.concatenate``, ``np.vstack``, and ``np.hstack``.\n",
        "``np.concatenate`` takes a tuple or list of arrays as its first argument, as we can see here:"
      ]
    },
    {
      "cell_type": "code",
      "execution_count": null,
      "metadata": {
        "id": "efGYrUJqZTkB"
      },
      "outputs": [],
      "source": [
        "x = np.array([1, 2, 3])\n",
        "y = np.array([3, 2, 1])\n",
        "np.concatenate([x, y])"
      ]
    },
    {
      "cell_type": "code",
      "execution_count": null,
      "metadata": {
        "id": "nIppqCTKZZ_k"
      },
      "outputs": [],
      "source": [
        "grid = np.array([[1, 2, 3],\n",
        "                 [4, 5, 6]])"
      ]
    },
    {
      "cell_type": "code",
      "execution_count": null,
      "metadata": {
        "id": "mSqvbZmeZbLK"
      },
      "outputs": [],
      "source": [
        "# concatenate along the first axis\n",
        "np.concatenate([grid, grid])"
      ]
    },
    {
      "cell_type": "code",
      "execution_count": null,
      "metadata": {
        "id": "TXZ2uJjEZeZX"
      },
      "outputs": [],
      "source": [
        "# concatenate along the second axis (zero-indexed)\n",
        "np.concatenate([grid, grid], axis=1)"
      ]
    },
    {
      "cell_type": "markdown",
      "metadata": {
        "id": "V2_6-QWHZngr"
      },
      "source": [
        "When joining arrays of mixed dimensions, it can be clearer to use the ``np.vstack`` (vertical stack) and ``np.hstack`` (horizontal stack) functions as shown below:"
      ]
    },
    {
      "cell_type": "code",
      "execution_count": null,
      "metadata": {
        "id": "vEPmTdZ2ZzCS"
      },
      "outputs": [],
      "source": [
        "x = np.array([1, 2, 3])\n",
        "grid = np.array([[9, 8, 7],\n",
        "                 [6, 5, 4]])\n",
        "\n",
        "# vertically stack the arrays\n",
        "np.vstack([x, grid])"
      ]
    },
    {
      "cell_type": "code",
      "execution_count": null,
      "metadata": {
        "id": "PWrrAOr-Z1s2"
      },
      "outputs": [],
      "source": [
        "# horizontally stack the arrays\n",
        "y = np.array([[99],\n",
        "              [99]])\n",
        "np.hstack([grid, y])"
      ]
    },
    {
      "cell_type": "markdown",
      "metadata": {
        "id": "bB5Ib1CsZ2rM"
      },
      "source": [
        "### Splitting of arrays\n",
        "\n",
        "The opposite of concatenation is splitting, which is implemented by the functions ``np.split``, ``np.hsplit``, and ``np.vsplit``.  For each of these, we can pass a list of indices giving the split points:"
      ]
    },
    {
      "cell_type": "code",
      "execution_count": null,
      "metadata": {
        "id": "TZTwODYMZ-1J"
      },
      "outputs": [],
      "source": [
        "x = [1, 2, 3, 99, 99, 3, 2, 1]\n",
        "x1, x2, x3 = np.split(x, [3, 5])\n",
        "print(x1, x2, x3)"
      ]
    },
    {
      "cell_type": "markdown",
      "metadata": {
        "id": "dfhXzVNJaJF6"
      },
      "source": [
        "Notice that *N* split-points, leads to *N + 1* subarrays.\n",
        "The related functions ``np.hsplit`` and ``np.vsplit`` are similar:"
      ]
    },
    {
      "cell_type": "code",
      "execution_count": null,
      "metadata": {
        "id": "j6Q3sbZmZ_kL"
      },
      "outputs": [],
      "source": [
        "grid = np.arange(16).reshape((4, 4))\n",
        "grid"
      ]
    },
    {
      "cell_type": "code",
      "execution_count": null,
      "metadata": {
        "id": "DNG8leinaMMa"
      },
      "outputs": [],
      "source": [
        "upper, lower = np.vsplit(grid, [2])\n",
        "print(upper)\n",
        "print(lower)"
      ]
    },
    {
      "cell_type": "code",
      "execution_count": null,
      "metadata": {
        "id": "I94NlVPXaOfI"
      },
      "outputs": [],
      "source": [
        "left, right = np.hsplit(grid, [2])\n",
        "print(left)\n",
        "print(right)"
      ]
    },
    {
      "cell_type": "markdown",
      "metadata": {
        "id": "OzROt5Aa_Qxx"
      },
      "source": [
        "## Introducing UFuncs\n",
        "\n",
        "For many types of operations, NumPy provides a convenient interface into just this kind of statically typed, compiled routine. This is known as a *vectorized* operation.\n",
        "This can be accomplished by simply performing an operation on the array, which will then be applied to each element.\n",
        "This vectorized approach is designed to push the loop into the compiled layer that underlies NumPy, leading to much faster execution."
      ]
    },
    {
      "cell_type": "code",
      "execution_count": null,
      "metadata": {
        "id": "aW_dwQab_dPF"
      },
      "outputs": [],
      "source": [
        "#Consider following loop based implementation to ind reciprocals for each element of an array\n",
        "np.random.seed(0)\n",
        "\n",
        "def compute_reciprocals(values):\n",
        "    output = np.empty(len(values))\n",
        "    for i in range(len(values)):\n",
        "        output[i] = 1.0 / values[i]\n",
        "    return output\n",
        "\n",
        "big_array = np.random.randint(1, 100, size=1000000)\n",
        "%timeit compute_reciprocals(big_array)"
      ]
    },
    {
      "cell_type": "code",
      "execution_count": null,
      "metadata": {
        "id": "C1qvC-0X_2Ue"
      },
      "outputs": [],
      "source": [
        "#Same operatoin using UFuncs applying '/' over array elements\n",
        "%timeit (1.0 / big_array)"
      ]
    },
    {
      "cell_type": "markdown",
      "metadata": {
        "id": "zWEw0XwOATnq"
      },
      "source": [
        "Vectorized operations in NumPy are implemented via *ufuncs*, whose main purpose is to quickly execute repeated operations on values in NumPy arrays. UFuncs are extremely flexible – before we saw an operation between a scalar and an array, but we can also operate between two arrays as well as multidimentional arrays.\n",
        "\n",
        "Computations using vectorization through ufuncs are nearly always more efficient than their counterpart implemented using Python loops, especially as the arrays grow in size.\n",
        "Any time you see such a loop in a Python script, you should consider whether it can be replaced with a vectorized expression."
      ]
    },
    {
      "cell_type": "markdown",
      "metadata": {
        "id": "LmvTAwQxBeu9"
      },
      "source": [
        "## Exploring NumPy's UFuncs\n",
        "\n",
        "Ufuncs exist in two flavors: *unary ufuncs*, which operate on a single input, and *binary ufuncs*, which operate on two inputs.\n",
        "\n",
        "\n",
        "### Array arithmetic\n",
        "\n",
        "NumPy's ufuncs feel very natural to use because they make use of Python's native arithmetic operators.\n",
        "The standard addition, subtraction, multiplication, and division can all be used:"
      ]
    },
    {
      "cell_type": "code",
      "execution_count": null,
      "metadata": {
        "id": "nR25dPabASNy"
      },
      "outputs": [],
      "source": [
        "x = np.arange(4)\n",
        "print(\"x     =\", x)\n",
        "print(\"x + 5 =\", x + 5)\n",
        "print(\"x - 5 =\", x - 5)\n",
        "print(\"x * 2 =\", x * 2)\n",
        "print(\"x / 2 =\", x / 2)\n",
        "print(\"x // 2 =\", x // 2)  # floor division\n",
        "#some advanced arithmatic expression   -(x/2+1)^2\n",
        "-(0.5*x + 1) ** 2"
      ]
    },
    {
      "cell_type": "markdown",
      "metadata": {
        "id": "a0WbgBQiB-i4"
      },
      "source": [
        "The following table lists the arithmetic operators implemented in NumPy:\n",
        "\n",
        "| Operator\t    | Equivalent ufunc    | Description                           |\n",
        "|---------------|---------------------|---------------------------------------|\n",
        "|``+``          |``np.add``           |Addition (e.g., ``1 + 1 = 2``)         |\n",
        "|``-``          |``np.subtract``      |Subtraction (e.g., ``3 - 2 = 1``)      |\n",
        "|``-``          |``np.negative``      |Unary negation (e.g., ``-2``)          |\n",
        "|``*``          |``np.multiply``      |Multiplication (e.g., ``2 * 3 = 6``)   |\n",
        "|``/``          |``np.divide``        |Division (e.g., ``3 / 2 = 1.5``)       |\n",
        "|``//``         |``np.floor_divide``  |Floor division (e.g., ``3 // 2 = 1``)  |\n",
        "|``**``         |``np.power``         |Exponentiation (e.g., ``2 ** 3 = 8``)  |\n",
        "|``%``          |``np.mod``           |Modulus/remainder (e.g., ``9 % 4 = 1``)|"
      ]
    },
    {
      "cell_type": "markdown",
      "metadata": {
        "id": "igbeuwzCCSNq"
      },
      "source": [
        "### Specialized ufuncs\n",
        "\n",
        "NumPy has many more ufuncs available, including hyperbolic trig functions, bitwise arithmetic, comparison operators, conversions from radians to degrees, rounding and remainders, and much more.\n",
        "A look through the NumPy documentation reveals a lot of interesting functionality.\n",
        "\n",
        "Another excellent source for more specialized and obscure ufuncs is the submodule ``scipy.special``.\n",
        "If you want to compute some obscure mathematical function on your data, chances are it is implemented in ``scipy.special``.\n",
        "There are far too many functions to list them all, but the following snippet shows a couple that might come up in a statistics context:"
      ]
    },
    {
      "cell_type": "code",
      "execution_count": null,
      "metadata": {
        "id": "lLWR2D17CXup"
      },
      "outputs": [],
      "source": [
        "#importing package special from scipy package\n",
        "from scipy import special"
      ]
    },
    {
      "cell_type": "code",
      "execution_count": null,
      "metadata": {
        "id": "zZIUIA_TCm3N"
      },
      "outputs": [],
      "source": [
        "# Gamma functions (generalized factorials) and related functions\n",
        "x = [1, 5, 10]\n",
        "print(\"gamma(x)     =\", special.gamma(x))\n",
        "print(\"ln|gamma(x)| =\", special.gammaln(x))\n",
        "print(\"beta(x, 2)   =\", special.beta(x, 2))"
      ]
    },
    {
      "cell_type": "markdown",
      "metadata": {
        "id": "NLnCoznWCoE9"
      },
      "source": [
        "Many other special functions like error functions, beta integral can also be evaluated."
      ]
    },
    {
      "cell_type": "markdown",
      "metadata": {
        "id": "IQRLOEyhC7h_"
      },
      "source": [
        "### Aggregates\n",
        "\n",
        "For binary ufuncs, there are some interesting aggregates that can be computed directly from the object.\n",
        "For example, if we'd like to *reduce* an array with a particular operation, we can use the ``reduce`` method of any ufunc.\n",
        "A reduce repeatedly applies a given operation to the elements of an array until only a single result remains.\n",
        "\n",
        "For example, calling ``reduce`` on the ``add`` ufunc returns the sum of all elements in the array:"
      ]
    },
    {
      "cell_type": "code",
      "execution_count": null,
      "metadata": {
        "id": "S-tqV3rWDTQT"
      },
      "outputs": [],
      "source": [
        "x = np.arange(1, 6)\n",
        "np.add.reduce(x)"
      ]
    },
    {
      "cell_type": "code",
      "execution_count": null,
      "metadata": {
        "id": "eyx37Xz9DUEK"
      },
      "outputs": [],
      "source": [
        "np.multiply.reduce(x)"
      ]
    },
    {
      "cell_type": "code",
      "execution_count": null,
      "metadata": {
        "id": "clon3tBiDWql"
      },
      "outputs": [],
      "source": [
        "#note the difference in output with accumulate\n",
        "np.add.accumulate(x)"
      ]
    },
    {
      "cell_type": "markdown",
      "metadata": {
        "id": "m56WFV4aELVz"
      },
      "source": [
        "**Answer Following Questions :** (You should either type the answer in separate text cell or code cell as per questoins asked)\n",
        "          \n",
        "\n",
        "\n",
        "1.   What are UFuncs in numpy?\n",
        "2.   Which are various attributes of numpy arrays object?\n",
        "3.   If you have 3 dimentional array in numpy object Obj how to identify its size, type and dimentions ?\n",
        "4.   Consider Obj object has dimentions 3*4*2  and you want to convert it to 4*6 shape exlpain how will you do it ? Also create code cell and demonstrate this using an example random int np array of 3*4*2 shape between 1 and 50.\n",
        "5.   Consider above 4*6 array, sample 2*3 sub array from left  bottom of this array store the result in varible subObj variable.\n",
        "\n",
        "**Conclusion :**  Thus we have learned basics of Numpy library for storing and efficiently processing any external data into python execution pipeline.  "
      ]
    }
  ],
  "metadata": {
    "colab": {
      "name": "experiment01-numpy.ipynb",
      "provenance": [],
      "include_colab_link": true
    },
    "kernelspec": {
      "display_name": "Python 3 (ipykernel)",
      "language": "python",
      "name": "python3"
    },
    "language_info": {
      "codemirror_mode": {
        "name": "ipython",
        "version": 3
      },
      "file_extension": ".py",
      "mimetype": "text/x-python",
      "name": "python",
      "nbconvert_exporter": "python",
      "pygments_lexer": "ipython3",
      "version": "3.10.12"
    }
  },
  "nbformat": 4,
  "nbformat_minor": 0
}